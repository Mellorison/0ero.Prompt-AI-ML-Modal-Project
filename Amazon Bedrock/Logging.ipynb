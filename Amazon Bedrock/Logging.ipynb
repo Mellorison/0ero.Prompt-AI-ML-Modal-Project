{
 "cells": [
  {
   "cell_type": "markdown",
   "id": "cc6b7b9f-a75d-4b78-930f-26d2343ac2c2",
   "metadata": {},
   "source": [
    "# Logging"
   ]
  },
  {
   "cell_type": "markdown",
   "id": "06fc5839-0b4b-42a3-9aaf-99a97e347955",
   "metadata": {},
   "source": [
    "### Import all needed packages"
   ]
  },
  {
   "cell_type": "code",
   "execution_count": 1,
   "id": "63cf31e4",
   "metadata": {
    "height": 113
   },
   "outputs": [],
   "source": [
    "import boto3\n",
    "import json\n",
    "import os\n",
    "\n",
    "bedrock = boto3.client('bedrock', region_name=\"us-west-2\")"
   ]
  },
  {
   "cell_type": "code",
   "execution_count": 2,
   "id": "e5d9e31b",
   "metadata": {
    "height": 62
   },
   "outputs": [],
   "source": [
    "from helpers.CloudWatchHelper import CloudWatch_Helper\n",
    "cloudwatch = CloudWatch_Helper()"
   ]
  },
  {
   "cell_type": "code",
   "execution_count": 3,
   "id": "87a30e7e",
   "metadata": {
    "height": 30
   },
   "outputs": [],
   "source": [
    "log_group_name = '/my/amazon/bedrock/logs'"
   ]
  },
  {
   "cell_type": "code",
   "execution_count": 4,
   "id": "2461a51c",
   "metadata": {
    "height": 30
   },
   "outputs": [
    {
     "name": "stdout",
     "output_type": "stream",
     "text": [
      "Log group '/my/amazon/bedrock/logs' created successfully.\n"
     ]
    }
   ],
   "source": [
    "cloudwatch.create_log_group(log_group_name)"
   ]
  },
  {
   "cell_type": "code",
   "execution_count": 5,
   "id": "0afe5997",
   "metadata": {
    "height": 283
   },
   "outputs": [],
   "source": [
    "loggingConfig = {\n",
    "    'cloudWatchConfig': {\n",
    "        'logGroupName': log_group_name,\n",
    "        'roleArn': os.environ['LOGGINGROLEARN'],\n",
    "        'largeDataDeliveryS3Config': {\n",
    "            'bucketName': os.environ['LOGGINGBUCKETNAME'],\n",
    "            'keyPrefix': 'amazon_bedrock_large_data_delivery',\n",
    "        }\n",
    "    },\n",
    "    's3Config': {\n",
    "        'bucketName': os.environ['LOGGINGBUCKETNAME'],\n",
    "        'keyPrefix': 'amazon_bedrock_logs',\n",
    "    },\n",
    "    'textDataDeliveryEnabled': True,\n",
    "}"
   ]
  },
  {
   "cell_type": "code",
   "execution_count": 6,
   "id": "2ca33ffe",
   "metadata": {
    "height": 45
   },
   "outputs": [
    {
     "data": {
      "text/plain": [
       "{'ResponseMetadata': {'RequestId': 'de670d35-1d92-4a74-b4eb-9b6ba98d206d',\n",
       "  'HTTPStatusCode': 200,\n",
       "  'HTTPHeaders': {'date': 'Wed, 18 Dec 2024 05:25:41 GMT',\n",
       "   'content-type': 'application/json',\n",
       "   'content-length': '2',\n",
       "   'connection': 'keep-alive',\n",
       "   'x-amzn-requestid': 'de670d35-1d92-4a74-b4eb-9b6ba98d206d'},\n",
       "  'RetryAttempts': 0}}"
      ]
     },
     "execution_count": 6,
     "metadata": {},
     "output_type": "execute_result"
    }
   ],
   "source": [
    "bedrock.put_model_invocation_logging_configuration(loggingConfig=loggingConfig)"
   ]
  },
  {
   "cell_type": "code",
   "execution_count": 7,
   "id": "41fdb20d",
   "metadata": {
    "height": 45
   },
   "outputs": [
    {
     "data": {
      "text/plain": [
       "{'ResponseMetadata': {'RequestId': '6425a920-21c5-4116-8b9b-5c015877f216',\n",
       "  'HTTPStatusCode': 200,\n",
       "  'HTTPHeaders': {'date': 'Wed, 18 Dec 2024 05:26:53 GMT',\n",
       "   'content-type': 'application/json',\n",
       "   'content-length': '604',\n",
       "   'connection': 'keep-alive',\n",
       "   'x-amzn-requestid': '6425a920-21c5-4116-8b9b-5c015877f216'},\n",
       "  'RetryAttempts': 0},\n",
       " 'loggingConfig': {'cloudWatchConfig': {'logGroupName': '/my/amazon/bedrock/logs',\n",
       "   'roleArn': 'arn:aws:iam::024832927613:role/c99355a2566044l8786287t1w02483292761-LoggingIAMRole-1BVEz0QWBvak',\n",
       "   'largeDataDeliveryS3Config': {'bucketName': 'c99355a2566044l8786287t1w024832927-loggings3bucket-5jnplxvok1lz',\n",
       "    'keyPrefix': 'amazon_bedrock_large_data_delivery'}},\n",
       "  's3Config': {'bucketName': 'c99355a2566044l8786287t1w024832927-loggings3bucket-5jnplxvok1lz',\n",
       "   'keyPrefix': 'amazon_bedrock_logs'},\n",
       "  'textDataDeliveryEnabled': True,\n",
       "  'imageDataDeliveryEnabled': True,\n",
       "  'embeddingDataDeliveryEnabled': True}}"
      ]
     },
     "execution_count": 7,
     "metadata": {},
     "output_type": "execute_result"
    }
   ],
   "source": [
    "bedrock.get_model_invocation_logging_configuration()"
   ]
  },
  {
   "cell_type": "code",
   "execution_count": 8,
   "id": "95ebecb7",
   "metadata": {
    "height": 45
   },
   "outputs": [],
   "source": [
    "bedrock_runtime = boto3.client('bedrock-runtime', region_name=\"us-west-2\")"
   ]
  },
  {
   "cell_type": "code",
   "execution_count": 9,
   "id": "402c6311",
   "metadata": {
    "height": 436
   },
   "outputs": [
    {
     "name": "stdout",
     "output_type": "stream",
     "text": [
      "\n",
      "Foobar is a fictional planet in the Star Wars universe. It is located in the Outer Rim Territories and is the homeworld of the KX-series security droids. Foobar is a desert planet with a hot, arid climate. It has a population of around 50 million, with the majority of the population living in the capital city of New Sullust.\n",
      "\n",
      "The planet is ruled by the KX-series security droids, who were created by the Galactic Empire to enforce order and maintain stability. The droids are programmed to follow the orders of the Empire and to protect the planet from any threats.\n",
      "\n",
      "Foobar is a popular destination for tourists, as it is home to many ancient ruins and monuments. The planet is also known for its mining industry, which produces a variety of valuable minerals and metals.\n",
      "\n",
      "However, Foobar has also been the site of several conflicts over the years. The planet was invaded by the Galactic Republic during the Clone Wars, and the Empire later took control of the planet. The Empire's rule was marked by oppression and corruption, and the planet's population suffered greatly.\n",
      "\n",
      "In recent years, the planet has been the focus of a resistance movement against the Empire. The resistance is led by a group of Jedi Knights, including Luke Skywalker and Leia Organa. The resistance has been successful in liberating several planets from the Empire's control, including Tatooine and Yavin IV.\n",
      "\n",
      "Despite its challenges, Foobar is a beautiful planet with a rich history and culture. Its desert landscapes and ancient ruins make it a popular destination for tourists and adventurers alike. However, the planet's history and its current situation with the Empire make it a dangerous place to visit.\n",
      "\n",
      "In conclusion, Foobar is a fictional planet in the Star Wars universe that is the homeworld of the KX-series security droids. It is a desert planet with a hot, arid climate and a population of around 50 million. The planet has been the site of several conflicts over the years, and its current situation with the Empire makes it a dangerous place to visit. However, the planet's history and its beautiful landscapes make it a popular destination for tourists and adventurers alike.\n"
     ]
    }
   ],
   "source": [
    "prompt = \"Write an article about the fictional planet Foobar.\"\n",
    "\n",
    "kwargs = {\n",
    "    \"modelId\": \"amazon.titan-text-express-v1\",\n",
    "    \"contentType\": \"application/json\",\n",
    "    \"accept\": \"*/*\",\n",
    "    \"body\": json.dumps(\n",
    "        {\n",
    "            \"inputText\": prompt,\n",
    "            \"textGenerationConfig\": {\n",
    "                \"maxTokenCount\": 512,\n",
    "                \"temperature\": 0.7,\n",
    "                \"topP\": 0.9\n",
    "            }\n",
    "        }\n",
    "    )\n",
    "}\n",
    "\n",
    "response = bedrock_runtime.invoke_model(**kwargs)\n",
    "response_body = json.loads(response.get('body').read())\n",
    "\n",
    "generation = response_body['results'][0]['outputText']\n",
    "\n",
    "print(generation)"
   ]
  },
  {
   "cell_type": "code",
   "execution_count": 10,
   "id": "68a7bab7",
   "metadata": {
    "height": 30
   },
   "outputs": [
    {
     "name": "stdout",
     "output_type": "stream",
     "text": [
      "Permissions are correctly set for Amazon Bedrock logs.\n",
      "-------------------------\n",
      "\n",
      "{\n",
      "    \"schemaType\": \"ModelInvocationLog\",\n",
      "    \"schemaVersion\": \"1.0\",\n",
      "    \"timestamp\": \"2024-12-18T05:27:16Z\",\n",
      "    \"accountId\": \"024832927613\",\n",
      "    \"identity\": {\n",
      "        \"arn\": \"arn:aws:sts::024832927613:assumed-role/voclabs/user3714847=eyJhbGciOiJIUzI1NiIsInR5cCI6IkpXVCJ9.eyJpc3MiOiJhcHA\"\n",
      "    },\n",
      "    \"region\": \"us-west-2\",\n",
      "    \"requestId\": \"4eedde5e-9351-43c7-85ea-432c16f807e6\",\n",
      "    \"operation\": \"InvokeModel\",\n",
      "    \"modelId\": \"amazon.titan-text-express-v1\",\n",
      "    \"input\": {\n",
      "        \"inputContentType\": \"application/json\",\n",
      "        \"inputBodyJson\": {\n",
      "            \"inputText\": \"Write an article about the fictional planet Foobar.\",\n",
      "            \"textGenerationConfig\": {\n",
      "                \"maxTokenCount\": 512,\n",
      "                \"temperature\": 0.7,\n",
      "                \"topP\": 0.9\n",
      "            }\n",
      "        },\n",
      "        \"inputTokenCount\": 10\n",
      "    },\n",
      "    \"output\": {\n",
      "        \"outputContentType\": \"application/json\",\n",
      "        \"outputBodyJson\": {\n",
      "            \"inputTextTokenCount\": 10,\n",
      "            \"results\": [\n",
      "                {\n",
      "                    \"tokenCount\": 452,\n",
      "                    \"outputText\": \"\\nFoobar is a fictional planet in the Star Wars universe. It is located in the Outer Rim Territories and is the homeworld of the KX-series security droids. Foobar is a desert planet with a hot, arid climate. It has a population of around 50 million, with the majority of the population living in the capital city of New Sullust.\\n\\nThe planet is ruled by the KX-series security droids, who were created by the Galactic Empire to enforce order and maintain stability. The droids are programmed to follow the orders of the Empire and to protect the planet from any threats.\\n\\nFoobar is a popular destination for tourists, as it is home to many ancient ruins and monuments. The planet is also known for its mining industry, which produces a variety of valuable minerals and metals.\\n\\nHowever, Foobar has also been the site of several conflicts over the years. The planet was invaded by the Galactic Republic during the Clone Wars, and the Empire later took control of the planet. The Empire's rule was marked by oppression and corruption, and the planet's population suffered greatly.\\n\\nIn recent years, the planet has been the focus of a resistance movement against the Empire. The resistance is led by a group of Jedi Knights, including Luke Skywalker and Leia Organa. The resistance has been successful in liberating several planets from the Empire's control, including Tatooine and Yavin IV.\\n\\nDespite its challenges, Foobar is a beautiful planet with a rich history and culture. Its desert landscapes and ancient ruins make it a popular destination for tourists and adventurers alike. However, the planet's history and its current situation with the Empire make it a dangerous place to visit.\\n\\nIn conclusion, Foobar is a fictional planet in the Star Wars universe that is the homeworld of the KX-series security droids. It is a desert planet with a hot, arid climate and a population of around 50 million. The planet has been the site of several conflicts over the years, and its current situation with the Empire makes it a dangerous place to visit. However, the planet's history and its beautiful landscapes make it a popular destination for tourists and adventurers alike.\",\n",
      "                    \"completionReason\": \"FINISH\"\n",
      "                }\n",
      "            ]\n",
      "        },\n",
      "        \"outputTokenCount\": 452\n",
      "    }\n",
      "}\n",
      "-------------------------\n",
      "\n"
     ]
    }
   ],
   "source": [
    "cloudwatch.print_recent_logs(log_group_name)"
   ]
  },
  {
   "cell_type": "markdown",
   "id": "1118acfb",
   "metadata": {},
   "source": [
    "To review the logs within the AWS console, please use the following link to reference the steps outlined in the video:"
   ]
  },
  {
   "cell_type": "code",
   "execution_count": 11,
   "id": "2cf443d2",
   "metadata": {
    "height": 47
   },
   "outputs": [],
   "source": [
    "from IPython.display import HTML\n",
    "aws_url = os.environ['AWS_CONSOLE_URL']"
   ]
  },
  {
   "cell_type": "code",
   "execution_count": 12,
   "id": "0b7c904c",
   "metadata": {
    "height": 62
   },
   "outputs": [
    {
     "data": {
      "text/html": [
       "<a href=\"https://signin.aws.amazon.com/federation?Action=login&SigninToken=vV80w6eJO7_Z3azq9Fgoy0ITecEgCa6EH8qvRWSQGXk-mDY5RswWS9gY7PozdgeLwdrrSHqKVUeX2pz2UEUgqSJlx9lwDBK2l1t6uGTwPR4MWdQE8-VMJHUK0S-BmsxavU_1mCZjnxmliU70mZfFEwj680HjfLuJl8G1GHogW29dUiH3t6RaR0Qp9sznoQcd4-TDw0ZG1am0eSJnDlpcamru5Iui9T7Xneq8LlVHTjRsSFdaVGaykYdER-ErRPs1wlzbzjHN225H0FCBwurLuyTWVki8Gowx2hsukbSrwyKRthmEmwmeWHc30qEHnx7R7qtA7-G5A4-6qMrzsyj5ah-a2XAsoy7QOKlQwUHSXoXbZEpMg3cOL5x6U_9GELgFx6RP-A2ipkVV928AB_dAn0zoZgk-Xmz5PeS8HynuaTOfJ6oS7nWJQPmXxFZMP-l26xbVPnFVHZBbrSkkM3owh1HQAj6P-l5rHVR4RixEEnfIkOfLYSkNOavk_peEf-P5UsJDqdyZUCSywheMnYolAVHC7C16zFyS_YNsoglnb50qxunDsRM_9hAbYJz-yGyhSbYEhifOZ5pcDXwmnTNCEw1DFOYc-PHd6rhIcPgLs8SNqP3Q2z_lxoCjHl52u9StNW2h387E05Lp0A3LAXTlp_6JU94GZ8gDy4vcX0cLh7FwERkgoIHrFUz5gSHEFEBtci8uVDorZvM_28ILkiN_chmMENAwW_PUypJTBN68ezLP7IYyFI8Fa2MA8trF_0r5Ouvd3AsNkBCN1suFM3FUyY8SNGeEB97BT3aITlr-8g7vUFjR8I47qi31VrEHvr1aAMhHfTGjrVo6_bfqYjCytUj-_j80sZW4GrRvBUObqWspD9vWLmxMCUV-VP6SOCDZjwLT3LfbaB-Y1lYc1J4DsPH7DQF_GNDE2gzOyai7MLzxCcFWIo7bC8Zd8J7p_zzpTrPjMYxueoU3Rfosr4Td8AOXsY1MKHAehqlPbYgV2cDfnCnVN5zv9AZUaBp6i_yTywCBof39YRfCRfdkXmW4r2DslbaWv1n4t6rainJl8lJtzW7NYeZr6tzkXKvsAPAa3C2zbJBF6SHbhvZrqDZFEwP3HGZyVGltc63sVlH8EJDIlQOnBdUUQToVzuG4ruZmITpkzsEQI8SLYayaW8-vM8H9aNOC7nrTQs1q-9lhO0RUOwPPvpNd65l5BfaIJzIIRuQrkoX9vGae2wEdZ5r5JK6X-tuhGsy2820INExGaPaa2HbWM8-ip0unhQgnONdQBrnW0ST9FEtHvOgGy35UT1TkwNXDDCFlcCKTcrrcCSY7k-Pajq6alUuBjHS4YBDYBWxah9crRI0cgxsJ3kl8qFKtz_rfST0-BOujADrVSEfV6GnUQ2y5cDfsgfLql_eAz28y-z2y_EXMQ12FopJNaXH45fwFYjHuTxa4hP6fSSMfvTC51TM-xn29PMIQKjlX8m6hqvaOS2KHzrTIb7rUv_gjv7scu65xZ6OCwCSWUnjzOx6UDEKTDcxAxk_puIPuY1I6pdCYm2aFQg&Issuer=https%3A%2F%2Fapi.vocareum.com&Destination=https%3A%2F%2Fconsole.aws.amazon.com%2Fconsole%2Fhome%3Fregion%3Dus-west-2\" target=\"_blank\">GO TO AWS CONSOLE</a>"
      ],
      "text/plain": [
       "<IPython.core.display.HTML object>"
      ]
     },
     "execution_count": 12,
     "metadata": {},
     "output_type": "execute_result"
    }
   ],
   "source": [
    "HTML(f'<a href=\"{aws_url}\" target=\"_blank\">GO TO AWS CONSOLE</a>')\n"
   ]
  },
  {
   "cell_type": "code",
   "execution_count": null,
   "id": "6f8e32e7",
   "metadata": {
    "height": 30
   },
   "outputs": [],
   "source": []
  }
 ],
 "metadata": {
  "kernelspec": {
   "display_name": "Python 3 (ipykernel)",
   "language": "python",
   "name": "python3"
  },
  "language_info": {
   "codemirror_mode": {
    "name": "ipython",
    "version": 3
   },
   "file_extension": ".py",
   "mimetype": "text/x-python",
   "name": "python",
   "nbconvert_exporter": "python",
   "pygments_lexer": "ipython3",
   "version": "3.11.9"
  }
 },
 "nbformat": 4,
 "nbformat_minor": 5
}
