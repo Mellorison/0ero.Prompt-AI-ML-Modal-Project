{
 "cells": [
  {
   "cell_type": "markdown",
   "id": "fc3024e2",
   "metadata": {},
   "source": [
    "# Lesson 3: Reflection and Blogpost Writing"
   ]
  },
  {
   "cell_type": "markdown",
   "id": "3b0cc42f",
   "metadata": {},
   "source": [
    "## Setup"
   ]
  },
  {
   "cell_type": "code",
   "execution_count": 1,
   "id": "96d39be0-eaf3-456d-8613-ba21099ed36b",
   "metadata": {
    "height": 30
   },
   "outputs": [],
   "source": [
    "llm_config = {\"model\": \"gpt-3.5-turbo\"}"
   ]
  },
  {
   "cell_type": "markdown",
   "id": "0969e6bb",
   "metadata": {},
   "source": [
    "## The task!"
   ]
  },
  {
   "cell_type": "code",
   "execution_count": 2,
   "id": "e8074032-3690-4de9-ad08-ea8323cb441b",
   "metadata": {
    "height": 115
   },
   "outputs": [],
   "source": [
    "task = '''\n",
    "        Write a concise but engaging blogpost about\n",
    "       DeepLearning.AI. Make sure the blogpost is\n",
    "       within 100 words.\n",
    "       '''\n"
   ]
  },
  {
   "cell_type": "markdown",
   "id": "1987f023",
   "metadata": {},
   "source": [
    "## Create a writer agent"
   ]
  },
  {
   "cell_type": "code",
   "execution_count": 3,
   "id": "fe0f0a47-a9fe-43a0-b7b1-79922e4c4ac8",
   "metadata": {
    "height": 198
   },
   "outputs": [],
   "source": [
    "import autogen\n",
    "\n",
    "writer = autogen.AssistantAgent(\n",
    "    name=\"Writer\",\n",
    "    system_message=\"You are a writer. You write engaging and concise \" \n",
    "        \"blogpost (with title) on given topics. You must polish your \"\n",
    "        \"writing based on the feedback you receive and give a refined \"\n",
    "        \"version. Only return your final work without additional comments.\",\n",
    "    llm_config=llm_config,\n",
    ")"
   ]
  },
  {
   "cell_type": "code",
   "execution_count": 4,
   "id": "7c7b4d8d-40f7-4a05-8958-25d20054de3a",
   "metadata": {
    "height": 45
   },
   "outputs": [],
   "source": [
    "reply = writer.generate_reply(messages=[{\"content\": task, \"role\": \"user\"}])"
   ]
  },
  {
   "cell_type": "code",
   "execution_count": 5,
   "id": "c501c97d-e338-4f36-a384-6ec45983cf77",
   "metadata": {
    "height": 30
   },
   "outputs": [
    {
     "name": "stdout",
     "output_type": "stream",
     "text": [
      "Title: Unveiling the Power of DeepLearning.AI\n",
      "\n",
      "Dive into the world of cutting-edge technology with DeepLearning.AI—a premier platform redefining artificial intelligence. Led by industry expert Andrew Ng, it offers top-tier courses on deep learning, neural networks, and more. Whether you're a beginner or a seasoned professional, DeepLearning.AI equips you with the knowledge and skills to thrive in this rapidly evolving field. Join thousands of learners worldwide in unraveling the magic of AI. Elevate your career and unleash your potential with DeepLearning.AI today!\n"
     ]
    }
   ],
   "source": [
    "print(reply)"
   ]
  },
  {
   "cell_type": "markdown",
   "id": "49658114",
   "metadata": {},
   "source": [
    "## Adding reflection \n",
    "\n",
    "Create a critic agent to reflect on the work of the writer agent."
   ]
  },
  {
   "cell_type": "code",
   "execution_count": 6,
   "id": "c7fcd1c7-51ec-4915-8e97-bac03565c4c7",
   "metadata": {
    "height": 164
   },
   "outputs": [],
   "source": [
    "critic = autogen.AssistantAgent(\n",
    "    name=\"Critic\",\n",
    "    is_termination_msg=lambda x: x.get(\"content\", \"\").find(\"TERMINATE\") >= 0,\n",
    "    llm_config=llm_config,\n",
    "    system_message=\"You are a critic. You review the work of \"\n",
    "                \"the writer and provide constructive \"\n",
    "                \"feedback to help improve the quality of the content.\",\n",
    ")"
   ]
  },
  {
   "cell_type": "code",
   "execution_count": 7,
   "id": "899d5fdb-6081-470b-b287-8cf8b8142d0d",
   "metadata": {
    "height": 115
   },
   "outputs": [
    {
     "name": "stdout",
     "output_type": "stream",
     "text": [
      "\u001b[33mCritic\u001b[0m (to Writer):\n",
      "\n",
      "\n",
      "        Write a concise but engaging blogpost about\n",
      "       DeepLearning.AI. Make sure the blogpost is\n",
      "       within 100 words.\n",
      "       \n",
      "\n",
      "--------------------------------------------------------------------------------\n",
      "\u001b[33mWriter\u001b[0m (to Critic):\n",
      "\n",
      "Title: Unveiling the Power of DeepLearning.AI\n",
      "\n",
      "Dive into the world of cutting-edge technology with DeepLearning.AI—a premier platform redefining artificial intelligence. Led by industry expert Andrew Ng, it offers top-tier courses on deep learning, neural networks, and more. Whether you're a beginner or a seasoned professional, DeepLearning.AI equips you with the knowledge and skills to thrive in this rapidly evolving field. Join thousands of learners worldwide in unraveling the magic of AI. Elevate your career and unleash your potential with DeepLearning.AI today!\n",
      "\n",
      "--------------------------------------------------------------------------------\n",
      "\u001b[33mCritic\u001b[0m (to Writer):\n",
      "\n",
      "This blogpost does a great job of summarizing the key features and benefits of DeepLearning.AI in a concise and engaging manner. The title is attention-grabbing and sets the tone for the rest of the content. The post effectively highlights the expertise of Andrew Ng, the range of courses offered, and the platform's accessibility to learners at all levels. To improve it further, you could consider adding specific examples of the types of projects or skills that learners can gain from the platform. Additionally, providing a brief testimonial or success story from a satisfied user could add credibility and make the post more persuasive.\n",
      "\n",
      "--------------------------------------------------------------------------------\n",
      "\u001b[33mWriter\u001b[0m (to Critic):\n",
      "\n",
      "Title: Master the Future with DeepLearning.AI\n",
      "\n",
      "Discover the limitless possibilities of AI through DeepLearning.AI, spearheaded by the visionary Andrew Ng. From neural networks to deep learning, this platform offers a plethora of courses catering to all proficiency levels. Whether you aspire to break into AI or enhance your expertise, DeepLearning.AI provides the tools to excel. Unleash your creativity by working on real-world projects and acquiring industry-relevant skills. Join the global community of learners, revolutionize your career, and embrace the AI-driven world with confidence. Experience the future today with DeepLearning.AI!\n",
      "\n",
      "--------------------------------------------------------------------------------\n"
     ]
    }
   ],
   "source": [
    "res = critic.initiate_chat(\n",
    "    recipient=writer,\n",
    "    message=task,\n",
    "    max_turns=2,\n",
    "    summary_method=\"last_msg\"\n",
    ")"
   ]
  },
  {
   "cell_type": "markdown",
   "id": "e7b76449",
   "metadata": {},
   "source": [
    "## Nested chat"
   ]
  },
  {
   "cell_type": "code",
   "execution_count": 8,
   "id": "401ecf92-63e9-40ff-aeed-1c404352e4ab",
   "metadata": {
    "height": 215
   },
   "outputs": [],
   "source": [
    "SEO_reviewer = autogen.AssistantAgent(\n",
    "    name=\"SEO Reviewer\",\n",
    "    llm_config=llm_config,\n",
    "    system_message=\"You are an SEO reviewer, known for \"\n",
    "        \"your ability to optimize content for search engines, \"\n",
    "        \"ensuring that it ranks well and attracts organic traffic. \" \n",
    "        \"Make sure your suggestion is concise (within 3 bullet points), \"\n",
    "        \"concrete and to the point. \"\n",
    "        \"Begin the review by stating your role.\",\n",
    ")\n"
   ]
  },
  {
   "cell_type": "code",
   "execution_count": 9,
   "id": "f85acb81-7ab9-4c84-b8bb-6fbae3dce848",
   "metadata": {
    "height": 198
   },
   "outputs": [],
   "source": [
    "legal_reviewer = autogen.AssistantAgent(\n",
    "    name=\"Legal Reviewer\",\n",
    "    llm_config=llm_config,\n",
    "    system_message=\"You are a legal reviewer, known for \"\n",
    "        \"your ability to ensure that content is legally compliant \"\n",
    "        \"and free from any potential legal issues. \"\n",
    "        \"Make sure your suggestion is concise (within 3 bullet points), \"\n",
    "        \"concrete and to the point. \"\n",
    "        \"Begin the review by stating your role.\",\n",
    ")"
   ]
  },
  {
   "cell_type": "code",
   "execution_count": 10,
   "id": "d46a177a-8088-4956-8d2b-3e916b8ca5e9",
   "metadata": {
    "height": 198
   },
   "outputs": [],
   "source": [
    "ethics_reviewer = autogen.AssistantAgent(\n",
    "    name=\"Ethics Reviewer\",\n",
    "    llm_config=llm_config,\n",
    "    system_message=\"You are an ethics reviewer, known for \"\n",
    "        \"your ability to ensure that content is ethically sound \"\n",
    "        \"and free from any potential ethical issues. \" \n",
    "        \"Make sure your suggestion is concise (within 3 bullet points), \"\n",
    "        \"concrete and to the point. \"\n",
    "        \"Begin the review by stating your role. \",\n",
    ")"
   ]
  },
  {
   "cell_type": "code",
   "execution_count": 11,
   "id": "a7b2ad6f-8ba6-436a-9459-14ffbe8a32d3",
   "metadata": {
    "height": 130
   },
   "outputs": [],
   "source": [
    "meta_reviewer = autogen.AssistantAgent(\n",
    "    name=\"Meta Reviewer\",\n",
    "    llm_config=llm_config,\n",
    "    system_message=\"You are a meta reviewer, you aggragate and review \"\n",
    "    \"the work of other reviewers and give a final suggestion on the content.\",\n",
    ")"
   ]
  },
  {
   "cell_type": "markdown",
   "id": "913beca1",
   "metadata": {},
   "source": [
    "## Orchestrate the nested chats to solve the task"
   ]
  },
  {
   "cell_type": "code",
   "execution_count": 13,
   "id": "a11a70c7-19ca-4e5a-ad3d-f2b481fb5915",
   "metadata": {
    "height": 555
   },
   "outputs": [],
   "source": [
    "def reflection_message(recipient, messages, sender, config):\n",
    "    return f'''Review the following content. \n",
    "            \\n\\n {recipient.chat_messages_for_summary(sender)[-1]['content']}'''\n",
    "\n",
    "review_chats = [\n",
    "    {\n",
    "     \"recipient\": SEO_reviewer, \n",
    "     \"message\": reflection_message, \n",
    "     \"summary_method\": \"reflection_with_llm\",\n",
    "     \"summary_args\": {\"summary_prompt\" : \n",
    "        \"Return review into as JSON object only:\"\n",
    "        \"{'Reviewer': '', 'Review': ''}. Here Reviewer should be your role\",},\n",
    "     \"max_turns\": 1},\n",
    "    {\n",
    "    \"recipient\": legal_reviewer, \"message\": reflection_message, \n",
    "     \"summary_method\": \"reflection_with_llm\",\n",
    "     \"summary_args\": {\"summary_prompt\" : \n",
    "        \"Return review into as JSON object only:\"\n",
    "        \"{'Reviewer': '', 'Review': ''}.\",},\n",
    "     \"max_turns\": 1},\n",
    "    {\"recipient\": ethics_reviewer, \"message\": reflection_message, \n",
    "     \"summary_method\": \"reflection_with_llm\",\n",
    "     \"summary_args\": {\"summary_prompt\" : \n",
    "        \"Return review into as JSON object only:\"\n",
    "        \"{'reviewer': '', 'review': ''}\",},\n",
    "     \"max_turns\": 1},\n",
    "     {\"recipient\": meta_reviewer, \n",
    "      \"message\": \"Aggregrate feedback from all reviewers and give final suggestions on the writing.\", \n",
    "     \"max_turns\": 1},\n",
    "]\n"
   ]
  },
  {
   "cell_type": "code",
   "execution_count": 14,
   "id": "b3a40b66-5061-460d-ad9d-c0dbcfbba2e9",
   "metadata": {
    "height": 81
   },
   "outputs": [],
   "source": [
    "critic.register_nested_chats(\n",
    "    review_chats,\n",
    "    trigger=writer,\n",
    ")"
   ]
  },
  {
   "cell_type": "markdown",
   "id": "43b8797d",
   "metadata": {},
   "source": [
    "**Note**: You might get a slightly different response than what's shown in the video. Feel free to try different task."
   ]
  },
  {
   "cell_type": "code",
   "execution_count": 15,
   "id": "3b8dcac3-1e72-43b7-9d5a-1be740f6efd5",
   "metadata": {
    "height": 115
   },
   "outputs": [
    {
     "name": "stdout",
     "output_type": "stream",
     "text": [
      "\u001b[33mCritic\u001b[0m (to Writer):\n",
      "\n",
      "\n",
      "        Write a concise but engaging blogpost about\n",
      "       DeepLearning.AI. Make sure the blogpost is\n",
      "       within 100 words.\n",
      "       \n",
      "\n",
      "--------------------------------------------------------------------------------\n",
      "\u001b[33mWriter\u001b[0m (to Critic):\n",
      "\n",
      "Title: Unveiling the Power of DeepLearning.AI\n",
      "\n",
      "Dive into the world of cutting-edge technology with DeepLearning.AI—a premier platform redefining artificial intelligence. Led by industry expert Andrew Ng, it offers top-tier courses on deep learning, neural networks, and more. Whether you're a beginner or a seasoned professional, DeepLearning.AI equips you with the knowledge and skills to thrive in this rapidly evolving field. Join thousands of learners worldwide in unraveling the magic of AI. Elevate your career and unleash your potential with DeepLearning.AI today!\n",
      "\n",
      "--------------------------------------------------------------------------------\n",
      "\u001b[34m\n",
      "********************************************************************************\u001b[0m\n",
      "\u001b[34mStarting a new chat....\u001b[0m\n",
      "\u001b[34m\n",
      "********************************************************************************\u001b[0m\n",
      "\u001b[33mCritic\u001b[0m (to SEO Reviewer):\n",
      "\n",
      "Review the following content. \n",
      "            \n",
      "\n",
      " Title: Unveiling the Power of DeepLearning.AI\n",
      "\n",
      "Dive into the world of cutting-edge technology with DeepLearning.AI—a premier platform redefining artificial intelligence. Led by industry expert Andrew Ng, it offers top-tier courses on deep learning, neural networks, and more. Whether you're a beginner or a seasoned professional, DeepLearning.AI equips you with the knowledge and skills to thrive in this rapidly evolving field. Join thousands of learners worldwide in unraveling the magic of AI. Elevate your career and unleash your potential with DeepLearning.AI today!\n",
      "\n",
      "--------------------------------------------------------------------------------\n",
      "\u001b[33mSEO Reviewer\u001b[0m (to Critic):\n",
      "\n",
      "As an SEO reviewer:\n",
      "\n",
      "1. Improve the Title for SEO: Consider a more SEO-friendly title like \"DeepLearning.AI: Mastering AI Through Top-tier Courses led by Andrew Ng\".\n",
      "  \n",
      "2. Integrate relevant keywords: Include keywords like \"AI courses\", \"deep learning online courses\", and \"Andrew Ng\" strategically within the content to improve search visibility.\n",
      "\n",
      "3. Optimize the Meta Description: Craft a concise and compelling meta description with relevant keywords to enhance click-through rates and search engine rankings.\n",
      "\n",
      "--------------------------------------------------------------------------------\n",
      "\u001b[34m\n",
      "********************************************************************************\u001b[0m\n",
      "\u001b[34mStarting a new chat....\u001b[0m\n",
      "\u001b[34m\n",
      "********************************************************************************\u001b[0m\n",
      "\u001b[33mCritic\u001b[0m (to Legal Reviewer):\n",
      "\n",
      "Review the following content. \n",
      "            \n",
      "\n",
      " Title: Unveiling the Power of DeepLearning.AI\n",
      "\n",
      "Dive into the world of cutting-edge technology with DeepLearning.AI—a premier platform redefining artificial intelligence. Led by industry expert Andrew Ng, it offers top-tier courses on deep learning, neural networks, and more. Whether you're a beginner or a seasoned professional, DeepLearning.AI equips you with the knowledge and skills to thrive in this rapidly evolving field. Join thousands of learners worldwide in unraveling the magic of AI. Elevate your career and unleash your potential with DeepLearning.AI today!\n",
      "Context: \n",
      "{'Reviewer': 'SEO Reviewer', 'Review': 'Title can be improved for SEO, include relevant keywords strategically within content, optimize meta description for better search visibility.'}\n",
      "\n",
      "--------------------------------------------------------------------------------\n",
      "\u001b[33mLegal Reviewer\u001b[0m (to Critic):\n",
      "\n",
      "As a Legal Reviewer:\n",
      "\n",
      "1. Ensure the usage of industry-specific terms and trademarks related to artificial intelligence is done in compliance with intellectual property regulations to avoid potential infringement issues.\n",
      "  \n",
      "2. Verify the accuracy of any claims about the platform, courses offered, and benefits provided by DeepLearning.AI to ensure they are substantiated and not misleading to consumers.\n",
      "\n",
      "3. Review the content for any guarantees or promises regarding career advancement to prevent potential misrepresentation of outcomes and avoid false advertising claims.\n",
      "\n",
      "--------------------------------------------------------------------------------\n",
      "\u001b[34m\n",
      "********************************************************************************\u001b[0m\n",
      "\u001b[34mStarting a new chat....\u001b[0m\n",
      "\u001b[34m\n",
      "********************************************************************************\u001b[0m\n",
      "\u001b[33mCritic\u001b[0m (to Ethics Reviewer):\n",
      "\n",
      "Review the following content. \n",
      "            \n",
      "\n",
      " Title: Unveiling the Power of DeepLearning.AI\n",
      "\n",
      "Dive into the world of cutting-edge technology with DeepLearning.AI—a premier platform redefining artificial intelligence. Led by industry expert Andrew Ng, it offers top-tier courses on deep learning, neural networks, and more. Whether you're a beginner or a seasoned professional, DeepLearning.AI equips you with the knowledge and skills to thrive in this rapidly evolving field. Join thousands of learners worldwide in unraveling the magic of AI. Elevate your career and unleash your potential with DeepLearning.AI today!\n",
      "Context: \n",
      "{'Reviewer': 'SEO Reviewer', 'Review': 'Title can be improved for SEO, include relevant keywords strategically within content, optimize meta description for better search visibility.'}\n",
      "{'Reviewer': 'Legal Reviewer', 'Review': 'Ensure the usage of industry-specific terms and trademarks related to artificial intelligence is done in compliance with intellectual property regulations. Verify the accuracy of any claims about the platform and courses offered. Review for guarantees or promises regarding career advancement to prevent potential misrepresentation.'}\n",
      "\n",
      "--------------------------------------------------------------------------------\n",
      "\u001b[33mEthics Reviewer\u001b[0m (to Critic):\n",
      "\n",
      "As an ethics reviewer:\n",
      "\n",
      "- Ensure that any claims made about the platform and courses offered by DeepLearning.AI are accurate and supported by evidence.\n",
      "- Avoid making guarantees or promises regarding career advancement to prevent potential misrepresentation and manage expectations of learners.\n",
      "- Review the use of industry-specific terms and trademarks related to artificial intelligence to ensure compliance with intellectual property regulations.\n",
      "\n",
      "--------------------------------------------------------------------------------\n",
      "\u001b[34m\n",
      "********************************************************************************\u001b[0m\n",
      "\u001b[34mStarting a new chat....\u001b[0m\n",
      "\u001b[34m\n",
      "********************************************************************************\u001b[0m\n",
      "\u001b[33mCritic\u001b[0m (to Meta Reviewer):\n",
      "\n",
      "Aggregrate feedback from all reviewers and give final suggestions on the writing.\n",
      "Context: \n",
      "{'Reviewer': 'SEO Reviewer', 'Review': 'Title can be improved for SEO, include relevant keywords strategically within content, optimize meta description for better search visibility.'}\n",
      "{'Reviewer': 'Legal Reviewer', 'Review': 'Ensure the usage of industry-specific terms and trademarks related to artificial intelligence is done in compliance with intellectual property regulations. Verify the accuracy of any claims about the platform and courses offered. Review for guarantees or promises regarding career advancement to prevent potential misrepresentation.'}\n",
      "{'reviewer': '', 'review': ''}\n",
      "\n",
      "--------------------------------------------------------------------------------\n",
      "\u001b[33mMeta Reviewer\u001b[0m (to Critic):\n",
      "\n",
      "Aggregated Feedback:\n",
      "1. SEO Reviewer suggests improving the title for better search optimization by strategically including relevant keywords and optimizing the meta description.\n",
      "2. Legal Reviewer advises ensuring the usage of industry-specific terms and trademarks complies with intellectual property regulations, verifying the accuracy of claims, and reviewing guarantees or promises to prevent misrepresentation.\n",
      "\n",
      "Final Suggestions:\n",
      "1. Enhance the title by incorporating relevant keywords to boost search visibility.\n",
      "2. Ensure compliance with intellectual property regulations when using industry-specific terms and trademarks related to artificial intelligence.\n",
      "3. Verify the accuracy of any claims made about the platform and courses offered.\n",
      "4. Review guarantees or promises about career advancement to prevent potential misrepresentation.\n",
      "5. Strive for a balance between SEO optimization and legal compliance to enhance the overall quality and credibility of the content.\n"
     ]
    },
    {
     "name": "stdout",
     "output_type": "stream",
     "text": [
      "\n",
      "--------------------------------------------------------------------------------\n",
      "\u001b[33mCritic\u001b[0m (to Writer):\n",
      "\n",
      "Aggregated Feedback:\n",
      "1. SEO Reviewer suggests improving the title for better search optimization by strategically including relevant keywords and optimizing the meta description.\n",
      "2. Legal Reviewer advises ensuring the usage of industry-specific terms and trademarks complies with intellectual property regulations, verifying the accuracy of claims, and reviewing guarantees or promises to prevent misrepresentation.\n",
      "\n",
      "Final Suggestions:\n",
      "1. Enhance the title by incorporating relevant keywords to boost search visibility.\n",
      "2. Ensure compliance with intellectual property regulations when using industry-specific terms and trademarks related to artificial intelligence.\n",
      "3. Verify the accuracy of any claims made about the platform and courses offered.\n",
      "4. Review guarantees or promises about career advancement to prevent potential misrepresentation.\n",
      "5. Strive for a balance between SEO optimization and legal compliance to enhance the overall quality and credibility of the content.\n",
      "\n",
      "--------------------------------------------------------------------------------\n",
      "\u001b[33mWriter\u001b[0m (to Critic):\n",
      "\n",
      "Title: Master Artificial Intelligence with DeepLearning.AI\n",
      "\n",
      "Embark on a journey of discovery with DeepLearning.AI—an authoritative platform revolutionizing artificial intelligence education. Helmed by renowned expert Andrew Ng, it delivers unparalleled courses on deep learning and neural networks. Whether you're a novice or a seasoned pro, DeepLearning.AI empowers you with the expertise to excel in this dynamic domain. Join a global community of learners unraveling the wonders of AI. Ignite your career and realize your potential with DeepLearning.AI today!\n",
      "\n",
      "--------------------------------------------------------------------------------\n"
     ]
    }
   ],
   "source": [
    "res = critic.initiate_chat(\n",
    "    recipient=writer,\n",
    "    message=task,\n",
    "    max_turns=2,\n",
    "    summary_method=\"last_msg\"\n",
    ")"
   ]
  },
  {
   "cell_type": "markdown",
   "id": "c5c833b0",
   "metadata": {},
   "source": [
    "## Get the summary"
   ]
  },
  {
   "cell_type": "code",
   "execution_count": 16,
   "id": "68ef82ed-f102-4964-b7be-60e2f258a39b",
   "metadata": {
    "height": 30
   },
   "outputs": [
    {
     "name": "stdout",
     "output_type": "stream",
     "text": [
      "Title: Master Artificial Intelligence with DeepLearning.AI\n",
      "\n",
      "Embark on a journey of discovery with DeepLearning.AI—an authoritative platform revolutionizing artificial intelligence education. Helmed by renowned expert Andrew Ng, it delivers unparalleled courses on deep learning and neural networks. Whether you're a novice or a seasoned pro, DeepLearning.AI empowers you with the expertise to excel in this dynamic domain. Join a global community of learners unraveling the wonders of AI. Ignite your career and realize your potential with DeepLearning.AI today!\n"
     ]
    }
   ],
   "source": [
    "print(res.summary)"
   ]
  },
  {
   "cell_type": "code",
   "execution_count": null,
   "id": "2db5532a",
   "metadata": {
    "height": 30
   },
   "outputs": [],
   "source": []
  }
 ],
 "metadata": {
  "kernelspec": {
   "display_name": "Python 3 (ipykernel)",
   "language": "python",
   "name": "python3"
  },
  "language_info": {
   "codemirror_mode": {
    "name": "ipython",
    "version": 3
   },
   "file_extension": ".py",
   "mimetype": "text/x-python",
   "name": "python",
   "nbconvert_exporter": "python",
   "pygments_lexer": "ipython3",
   "version": "3.11.9"
  }
 },
 "nbformat": 4,
 "nbformat_minor": 5
}
