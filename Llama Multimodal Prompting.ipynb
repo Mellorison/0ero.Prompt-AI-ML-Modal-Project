{
 "cells": [
  {
   "cell_type": "markdown",
   "id": "62b64880-9216-4329-be3f-ca88958b1e2d",
   "metadata": {},
   "source": [
    "# Llama 3.2 Multimodal Prompting"
   ]
  },
  {
   "cell_type": "markdown",
   "id": "60bacfba-58f3-4cc5-8c80-006c3c32281c",
   "metadata": {},
   "source": [
    "<p style=\"background-color:#fff6e4; padding:15px; border-width:3px; border-color:#f5ecda; border-style:solid; border-radius:6px\"> ⏳ <b>Note <code>(Kernel Starting)</code>:</b> This notebook takes about 30 seconds to be ready to use. You may start and watch the video while you wait.</p>"
   ]
  },
  {
   "cell_type": "code",
   "execution_count": null,
   "id": "a560f3f0-84bd-436e-ad42-194a21f48e4e",
   "metadata": {
    "height": 47
   },
   "outputs": [],
   "source": [
    "import warnings\n",
    "warnings.filterwarnings('ignore')"
   ]
  },
  {
   "cell_type": "code",
   "execution_count": null,
   "id": "ea4a7628-fa0d-4008-9cba-46cfe4838613",
   "metadata": {
    "height": 47
   },
   "outputs": [],
   "source": [
    "from utils import load_env\n",
    "load_env()"
   ]
  },
  {
   "cell_type": "markdown",
   "id": "2634badc-f54d-445e-aba4-3b2fa89474fb",
   "metadata": {},
   "source": [
    "## Text input only question"
   ]
  },
  {
   "cell_type": "code",
   "execution_count": 7,
   "id": "88a5faf2-7b1d-42cc-8f1e-9d14f51efec3",
   "metadata": {
    "height": 47
   },
   "outputs": [],
   "source": [
    "from utils import llama32\n",
    "from utils import llama31"
   ]
  },
  {
   "cell_type": "markdown",
   "id": "77b5e00e-80e1-4034-8cc6-bae18a3d307d",
   "metadata": {},
   "source": [
    "<p style=\"background-color:#fff6ff; padding:15px; border-width:3px; border-color:#efe6ef; border-style:solid; border-radius:6px\"> 💻 &nbsp; <b>Access <code>requirements.txt</code> and <code>utils.py</code> files:</b> 1) click on the <em>\"File\"</em> option on the top menu of the notebook and then 2) click on <em>\"Open\"</em>. For more help, please see the <em>\"Appendix - Tips and Help\"</em> Lesson.</p>"
   ]
  },
  {
   "cell_type": "code",
   "execution_count": 3,
   "id": "afca78d0-7caa-489f-98a8-ec59edeab9a8",
   "metadata": {
    "height": 96
   },
   "outputs": [],
   "source": [
    "messages = [\n",
    "  {\"role\": \"user\",\n",
    "    \"content\": \"Who wrote the book Charlotte's Web?\"}\n",
    "]"
   ]
  },
  {
   "cell_type": "code",
   "execution_count": 4,
   "id": "81481e5b-da23-4dcd-a6b4-ad92ea6d8bd0",
   "metadata": {
    "height": 47
   },
   "outputs": [
    {
     "ename": "Exception",
     "evalue": "Request failed: 403 Client Error: Forbidden for url: http://jupyter-api-proxy.internal.dlai/rev-proxy/together/v1/chat/completions",
     "output_type": "error",
     "traceback": [
      "\u001b[0;31m---------------------------------------------------------------------------\u001b[0m",
      "\u001b[0;31mHTTPError\u001b[0m                                 Traceback (most recent call last)",
      "File \u001b[0;32m~/work/L2/utils.py:82\u001b[0m, in \u001b[0;36mllama31\u001b[0;34m(prompt_or_messages, model_size, temperature, raw, debug)\u001b[0m\n\u001b[1;32m     79\u001b[0m response \u001b[38;5;241m=\u001b[39m requests\u001b[38;5;241m.\u001b[39mpost(\n\u001b[1;32m     80\u001b[0m     url, headers\u001b[38;5;241m=\u001b[39mheaders, data\u001b[38;5;241m=\u001b[39mjson\u001b[38;5;241m.\u001b[39mdumps(payload)\n\u001b[1;32m     81\u001b[0m )\n\u001b[0;32m---> 82\u001b[0m \u001b[43mresponse\u001b[49m\u001b[38;5;241;43m.\u001b[39;49m\u001b[43mraise_for_status\u001b[49m\u001b[43m(\u001b[49m\u001b[43m)\u001b[49m  \u001b[38;5;66;03m# Raises HTTPError for bad responses\u001b[39;00m\n\u001b[1;32m     83\u001b[0m res \u001b[38;5;241m=\u001b[39m response\u001b[38;5;241m.\u001b[39mjson()\n",
      "File \u001b[0;32m/usr/local/lib/python3.11/site-packages/requests/models.py:1024\u001b[0m, in \u001b[0;36mResponse.raise_for_status\u001b[0;34m(self)\u001b[0m\n\u001b[1;32m   1023\u001b[0m \u001b[38;5;28;01mif\u001b[39;00m http_error_msg:\n\u001b[0;32m-> 1024\u001b[0m     \u001b[38;5;28;01mraise\u001b[39;00m HTTPError(http_error_msg, response\u001b[38;5;241m=\u001b[39m\u001b[38;5;28mself\u001b[39m)\n",
      "\u001b[0;31mHTTPError\u001b[0m: 403 Client Error: Forbidden for url: http://jupyter-api-proxy.internal.dlai/rev-proxy/together/v1/chat/completions",
      "\nDuring handling of the above exception, another exception occurred:\n",
      "\u001b[0;31mException\u001b[0m                                 Traceback (most recent call last)",
      "Cell \u001b[0;32mIn[4], line 1\u001b[0m\n\u001b[0;32m----> 1\u001b[0m response_32 \u001b[38;5;241m=\u001b[39m \u001b[43mllama31\u001b[49m\u001b[43m(\u001b[49m\u001b[43mmessages\u001b[49m\u001b[43m,\u001b[49m\u001b[43m \u001b[49m\u001b[38;5;241;43m90\u001b[39;49m\u001b[43m)\u001b[49m\n\u001b[1;32m      2\u001b[0m \u001b[38;5;28mprint\u001b[39m(response_32)\n",
      "File \u001b[0;32m~/work/L2/utils.py:85\u001b[0m, in \u001b[0;36mllama31\u001b[0;34m(prompt_or_messages, model_size, temperature, raw, debug)\u001b[0m\n\u001b[1;32m     83\u001b[0m     res \u001b[38;5;241m=\u001b[39m response\u001b[38;5;241m.\u001b[39mjson()\n\u001b[1;32m     84\u001b[0m \u001b[38;5;28;01mexcept\u001b[39;00m requests\u001b[38;5;241m.\u001b[39mexceptions\u001b[38;5;241m.\u001b[39mRequestException \u001b[38;5;28;01mas\u001b[39;00m e:\n\u001b[0;32m---> 85\u001b[0m     \u001b[38;5;28;01mraise\u001b[39;00m \u001b[38;5;167;01mException\u001b[39;00m(\u001b[38;5;124mf\u001b[39m\u001b[38;5;124m\"\u001b[39m\u001b[38;5;124mRequest failed: \u001b[39m\u001b[38;5;132;01m{\u001b[39;00me\u001b[38;5;132;01m}\u001b[39;00m\u001b[38;5;124m\"\u001b[39m)\n\u001b[1;32m     87\u001b[0m \u001b[38;5;28;01mif\u001b[39;00m \u001b[38;5;124m'\u001b[39m\u001b[38;5;124merror\u001b[39m\u001b[38;5;124m'\u001b[39m \u001b[38;5;129;01min\u001b[39;00m res:\n\u001b[1;32m     88\u001b[0m     \u001b[38;5;28;01mraise\u001b[39;00m \u001b[38;5;167;01mException\u001b[39;00m(\u001b[38;5;124mf\u001b[39m\u001b[38;5;124m\"\u001b[39m\u001b[38;5;124mAPI Error: \u001b[39m\u001b[38;5;132;01m{\u001b[39;00mres[\u001b[38;5;124m'\u001b[39m\u001b[38;5;124merror\u001b[39m\u001b[38;5;124m'\u001b[39m]\u001b[38;5;132;01m}\u001b[39;00m\u001b[38;5;124m\"\u001b[39m)\n",
      "\u001b[0;31mException\u001b[0m: Request failed: 403 Client Error: Forbidden for url: http://jupyter-api-proxy.internal.dlai/rev-proxy/together/v1/chat/completions"
     ]
    }
   ],
   "source": [
    "response_32 = llama31(messages, 90)\n",
    "print(response_32)"
   ]
  },
  {
   "cell_type": "code",
   "execution_count": null,
   "id": "1abf111b-459a-47fd-9691-246e012affb5",
   "metadata": {
    "height": 47
   },
   "outputs": [],
   "source": [
    "response_31 = llama31(messages,70)\n",
    "print(response_31)"
   ]
  },
  {
   "cell_type": "markdown",
   "id": "72425e13-2e9a-46cb-a72e-9da04d523f80",
   "metadata": {},
   "source": [
    "## Reprompting with new question"
   ]
  },
  {
   "cell_type": "code",
   "execution_count": 11,
   "id": "7e055602-c6b4-40cc-ab81-c11c7d153425",
   "metadata": {
    "height": 164
   },
   "outputs": [],
   "source": [
    "messages = [\n",
    "  {\"role\": \"user\",\n",
    "    \"content\": \"Who wrote the book Charlotte's Web?\"},\n",
    "      {\"role\": \"assistant\",\n",
    "    \"content\": response_31},\n",
    "      {\"role\": \"user\",\n",
    "    \"content\": \"3 of the best quotes\"}\n",
    "]"
   ]
  },
  {
   "cell_type": "code",
   "execution_count": 6,
   "id": "7300f74e-7d0b-4918-b687-89e7303975e2",
   "metadata": {
    "height": 47
   },
   "outputs": [
    {
     "ename": "NameError",
     "evalue": "name 'llama32' is not defined",
     "output_type": "error",
     "traceback": [
      "\u001b[0;31m---------------------------------------------------------------------------\u001b[0m",
      "\u001b[0;31mNameError\u001b[0m                                 Traceback (most recent call last)",
      "Cell \u001b[0;32mIn[6], line 1\u001b[0m\n\u001b[0;32m----> 1\u001b[0m response_32 \u001b[38;5;241m=\u001b[39m \u001b[43mllama32\u001b[49m(messages,\u001b[38;5;241m90\u001b[39m)\n\u001b[1;32m      2\u001b[0m \u001b[38;5;28mprint\u001b[39m(response_32)\n",
      "\u001b[0;31mNameError\u001b[0m: name 'llama32' is not defined"
     ]
    }
   ],
   "source": [
    "response_32 = llama32(messages,90)\n",
    "print(response_32)"
   ]
  },
  {
   "cell_type": "code",
   "execution_count": 12,
   "id": "accdc2e2-28d8-47f2-b190-3a98fc455f79",
   "metadata": {
    "height": 47
   },
   "outputs": [
    {
     "name": "stdout",
     "output_type": "stream",
     "text": [
      "Here are three famous quotes from \"Charlotte's Web\" by E.B. White:\n",
      "\n",
      "1. \"You have been my friend,\" replied Charlotte. \"That in itself is a tremendous thing. I wove my webs for you because I liked you. After all, what's a life anyway? We're born, we live a little while, we die. A spider's life can't help being something of a mess, with all this hustling backward and forward, leaving behind you wherever you go a trail of bits and pieces and a faint scent of yourself.\"\n",
      "\n",
      "2. \"It is not often that someone comes along who is a true friend and a good writer. Charlotte was both.\"\n",
      "\n",
      "3. \"You've got a friend in me.\"\n"
     ]
    }
   ],
   "source": [
    "response_31 = llama31(messages,70)\n",
    "print(response_31)"
   ]
  },
  {
   "cell_type": "markdown",
   "id": "f33c9294-6c42-4caa-b504-0875f2978acb",
   "metadata": {},
   "source": [
    "## Question about an image"
   ]
  },
  {
   "cell_type": "code",
   "execution_count": null,
   "id": "215feb44-49b2-4b60-88e9-d8309089bc7a",
   "metadata": {
    "height": 30
   },
   "outputs": [],
   "source": [
    "from utils import disp_image"
   ]
  },
  {
   "cell_type": "code",
   "execution_count": null,
   "id": "bb9a380b-b2f9-41a7-892f-43d1a6923c70",
   "metadata": {
    "height": 45
   },
   "outputs": [],
   "source": [
    "disp_image(\"images/Llama_Repo.jpeg\") # Example usage for local image"
   ]
  },
  {
   "cell_type": "markdown",
   "id": "3c69ad20-03b3-43ff-9597-5bfa39d9733e",
   "metadata": {},
   "source": [
    "### Image from a URL"
   ]
  },
  {
   "cell_type": "code",
   "execution_count": null,
   "id": "f72ce84e-7dee-4223-9fcc-df6efe760cae",
   "metadata": {
    "height": 266
   },
   "outputs": [],
   "source": [
    "image_url = (\"https://raw.githubusercontent.com/meta-llama/\"\n",
    "            \"llama-models/refs/heads/main/Llama_Repo.jpeg\")\n",
    "messages = [\n",
    "  {\"role\": \"user\",\n",
    "    \"content\": [\n",
    "      {\"type\": \"text\",\n",
    "        \"text\": \"describe the image in one sentence\"\n",
    "      },\n",
    "      {\"type\": \"image_url\",\n",
    "        \"image_url\": {\"url\": image_url}\n",
    "      }\n",
    "    ]\n",
    "  },\n",
    "]"
   ]
  },
  {
   "cell_type": "code",
   "execution_count": 13,
   "id": "45aedfab-122d-407a-9c13-6b0abe68109d",
   "metadata": {
    "height": 64
   },
   "outputs": [
    {
     "ename": "NameError",
     "evalue": "name 'disp_image' is not defined",
     "output_type": "error",
     "traceback": [
      "\u001b[0;31m---------------------------------------------------------------------------\u001b[0m",
      "\u001b[0;31mNameError\u001b[0m                                 Traceback (most recent call last)",
      "Cell \u001b[0;32mIn[13], line 1\u001b[0m\n\u001b[0;32m----> 1\u001b[0m \u001b[43mdisp_image\u001b[49m(image_url)\n\u001b[1;32m      2\u001b[0m result \u001b[38;5;241m=\u001b[39m llama32(messages,\u001b[38;5;241m90\u001b[39m)\n\u001b[1;32m      3\u001b[0m \u001b[38;5;28mprint\u001b[39m(result)\n",
      "\u001b[0;31mNameError\u001b[0m: name 'disp_image' is not defined"
     ]
    }
   ],
   "source": [
    "disp_image(image_url)\n",
    "result = llama32(messages,90)\n",
    "print(result)"
   ]
  },
  {
   "cell_type": "markdown",
   "id": "628c1ea4-48c7-439f-989a-aaef59285053",
   "metadata": {},
   "source": [
    "### Using a local image"
   ]
  },
  {
   "cell_type": "code",
   "execution_count": null,
   "id": "1e12cec8-bc52-4fd8-93b9-63092011a49d",
   "metadata": {
    "height": 130
   },
   "outputs": [],
   "source": [
    "import base64\n",
    "\n",
    "def encode_image(image_path):\n",
    "  with open(image_path, \"rb\") as image_file:\n",
    "    return base64.b64encode(image_file.read()).decode('utf-8')\n",
    "base64_image = encode_image(\"images/Llama_Repo.jpeg\")"
   ]
  },
  {
   "cell_type": "code",
   "execution_count": null,
   "id": "f436f385-aefe-406a-873a-b8479cba85c2",
   "metadata": {
    "height": 232
   },
   "outputs": [],
   "source": [
    "messages = [\n",
    "  {\"role\": \"user\",\n",
    "    \"content\": [\n",
    "      {\"type\": \"text\",\n",
    "        \"text\": \"describe the image in one sentence\"\n",
    "      },\n",
    "      {\"type\": \"image_url\",\n",
    "        \"image_url\": {\"url\": f\"data:image/jpeg;base64,{base64_image}\"}\n",
    "      }\n",
    "    ]\n",
    "  },\n",
    "]"
   ]
  },
  {
   "cell_type": "code",
   "execution_count": 14,
   "id": "73d71ecc-0cda-4bb3-a533-15a352f4274a",
   "metadata": {
    "height": 64
   },
   "outputs": [
    {
     "ename": "NameError",
     "evalue": "name 'disp_image' is not defined",
     "output_type": "error",
     "traceback": [
      "\u001b[0;31m---------------------------------------------------------------------------\u001b[0m",
      "\u001b[0;31mNameError\u001b[0m                                 Traceback (most recent call last)",
      "Cell \u001b[0;32mIn[14], line 1\u001b[0m\n\u001b[0;32m----> 1\u001b[0m \u001b[43mdisp_image\u001b[49m(image_url)\n\u001b[1;32m      2\u001b[0m result \u001b[38;5;241m=\u001b[39m llama32(messages,\u001b[38;5;241m90\u001b[39m)\n\u001b[1;32m      3\u001b[0m \u001b[38;5;28mprint\u001b[39m(result)\n",
      "\u001b[0;31mNameError\u001b[0m: name 'disp_image' is not defined"
     ]
    }
   ],
   "source": [
    "disp_image(image_url)\n",
    "result = llama32(messages,90)\n",
    "print(result)"
   ]
  },
  {
   "cell_type": "markdown",
   "id": "aecd8db8-81f2-4ae1-bddc-ba045010822d",
   "metadata": {},
   "source": [
    "## Follow up question about an image"
   ]
  },
  {
   "cell_type": "code",
   "execution_count": 17,
   "id": "126746fc-38b5-48c4-a130-12ff52a35079",
   "metadata": {
    "height": 266
   },
   "outputs": [
    {
     "ename": "NameError",
     "evalue": "name 'base64_image' is not defined",
     "output_type": "error",
     "traceback": [
      "\u001b[0;31m---------------------------------------------------------------------------\u001b[0m",
      "\u001b[0;31mNameError\u001b[0m                                 Traceback (most recent call last)",
      "Cell \u001b[0;32mIn[17], line 8\u001b[0m\n\u001b[1;32m      1\u001b[0m messages \u001b[38;5;241m=\u001b[39m [\n\u001b[1;32m      2\u001b[0m   {\u001b[38;5;124m\"\u001b[39m\u001b[38;5;124mrole\u001b[39m\u001b[38;5;124m\"\u001b[39m: \u001b[38;5;124m\"\u001b[39m\u001b[38;5;124muser\u001b[39m\u001b[38;5;124m\"\u001b[39m,\n\u001b[1;32m      3\u001b[0m     \u001b[38;5;124m\"\u001b[39m\u001b[38;5;124mcontent\u001b[39m\u001b[38;5;124m\"\u001b[39m: [\n\u001b[1;32m      4\u001b[0m       {\u001b[38;5;124m\"\u001b[39m\u001b[38;5;124mtype\u001b[39m\u001b[38;5;124m\"\u001b[39m: \u001b[38;5;124m\"\u001b[39m\u001b[38;5;124mtext\u001b[39m\u001b[38;5;124m\"\u001b[39m,\n\u001b[1;32m      5\u001b[0m         \u001b[38;5;124m\"\u001b[39m\u001b[38;5;124mtext\u001b[39m\u001b[38;5;124m\"\u001b[39m: \u001b[38;5;124m\"\u001b[39m\u001b[38;5;124mdescribe the image in one sentence\u001b[39m\u001b[38;5;124m\"\u001b[39m\n\u001b[1;32m      6\u001b[0m       },\n\u001b[1;32m      7\u001b[0m       {\u001b[38;5;124m\"\u001b[39m\u001b[38;5;124mtype\u001b[39m\u001b[38;5;124m\"\u001b[39m: \u001b[38;5;124m\"\u001b[39m\u001b[38;5;124mimage_url\u001b[39m\u001b[38;5;124m\"\u001b[39m,\n\u001b[0;32m----> 8\u001b[0m         \u001b[38;5;124m\"\u001b[39m\u001b[38;5;124mimage_url\u001b[39m\u001b[38;5;124m\"\u001b[39m: {\u001b[38;5;124m\"\u001b[39m\u001b[38;5;124murl\u001b[39m\u001b[38;5;124m\"\u001b[39m: \u001b[38;5;124mf\u001b[39m\u001b[38;5;124m\"\u001b[39m\u001b[38;5;124mdata:image/jpeg;base64,\u001b[39m\u001b[38;5;132;01m{\u001b[39;00m\u001b[43mbase64_image\u001b[49m\u001b[38;5;132;01m}\u001b[39;00m\u001b[38;5;124m\"\u001b[39m}\n\u001b[1;32m      9\u001b[0m       }\n\u001b[1;32m     10\u001b[0m     ]\n\u001b[1;32m     11\u001b[0m   },\n\u001b[1;32m     12\u001b[0m   {\u001b[38;5;124m\"\u001b[39m\u001b[38;5;124mrole\u001b[39m\u001b[38;5;124m\"\u001b[39m: \u001b[38;5;124m\"\u001b[39m\u001b[38;5;124massistant\u001b[39m\u001b[38;5;124m\"\u001b[39m, \u001b[38;5;124m\"\u001b[39m\u001b[38;5;124mcontent\u001b[39m\u001b[38;5;124m\"\u001b[39m: result},\n\u001b[1;32m     13\u001b[0m   {\u001b[38;5;124m\"\u001b[39m\u001b[38;5;124mrole\u001b[39m\u001b[38;5;124m\"\u001b[39m: \u001b[38;5;124m\"\u001b[39m\u001b[38;5;124muser\u001b[39m\u001b[38;5;124m\"\u001b[39m, \u001b[38;5;124m\"\u001b[39m\u001b[38;5;124mcontent\u001b[39m\u001b[38;5;124m\"\u001b[39m: \u001b[38;5;124m\"\u001b[39m\u001b[38;5;124mhow many of them are purple?\u001b[39m\u001b[38;5;124m\"\u001b[39m}\n\u001b[1;32m     14\u001b[0m ]\n",
      "\u001b[0;31mNameError\u001b[0m: name 'base64_image' is not defined"
     ]
    }
   ],
   "source": [
    "messages = [\n",
    "  {\"role\": \"user\",\n",
    "    \"content\": [\n",
    "      {\"type\": \"text\",\n",
    "        \"text\": \"describe the image in one sentence\"\n",
    "      },\n",
    "      {\"type\": \"image_url\",\n",
    "        \"image_url\": {\"url\": f\"data:image/jpeg;base64,{base64_image}\"}\n",
    "      }\n",
    "    ]\n",
    "  },\n",
    "  {\"role\": \"assistant\", \"content\": result},\n",
    "  {\"role\": \"user\", \"content\": \"how many of them are purple?\"}\n",
    "]"
   ]
  },
  {
   "cell_type": "code",
   "execution_count": 16,
   "id": "25d31f7e-dc74-4342-af0a-e9beca290c93",
   "metadata": {
    "height": 47
   },
   "outputs": [
    {
     "name": "stdout",
     "output_type": "stream",
     "text": [
      "Here are three of the most famous quotes from \"Charlotte's Web\" by E.B. White:\n",
      "\n",
      "1. \"Some pigs are smarter than others. Clear your mind of cant.\" - This quote highlights the intelligence and wisdom of Wilbur, the pig, and is a favorite among readers.\n",
      "2. \"It is not often that someone comes along who is a true friend and a good writer. Charlotte was both.\" - This quote showcases the special bond between Wilbur and Charlotte, and is a testament to the enduring power of their friendship.\n",
      "3. \"It's not often that someone comes along who is a true friend and a good writer. But Charlotte was both.\"\n"
     ]
    }
   ],
   "source": [
    "result = llama32(messages)\n",
    "print(result)"
   ]
  },
  {
   "cell_type": "markdown",
   "id": "df39b37e-20f0-455a-b116-089ac9a8238c",
   "metadata": {},
   "source": [
    "### Define llama32pi() helper"
   ]
  },
  {
   "cell_type": "code",
   "execution_count": null,
   "id": "c362e712-a44d-4026-9338-3a0fface5459",
   "metadata": {
    "height": 285
   },
   "outputs": [],
   "source": [
    "def llama32pi(prompt, image_url, model_size=90):\n",
    "  messages = [\n",
    "    {\n",
    "      \"role\": \"user\",\n",
    "      \"content\": [\n",
    "        {\"type\": \"text\",\n",
    "          \"text\": prompt},\n",
    "        {\"type\": \"image_url\",\n",
    "          \"image_url\": {\n",
    "            \"url\": image_url}\n",
    "        }\n",
    "      ]\n",
    "    },\n",
    "  ]\n",
    "  result = llama32(messages, model_size)\n",
    "  return result"
   ]
  },
  {
   "cell_type": "code",
   "execution_count": 19,
   "id": "735f50f4-44c0-4a2a-8b28-cc59b7410660",
   "metadata": {
    "height": 79
   },
   "outputs": [
    {
     "ename": "NameError",
     "evalue": "name 'llama32pi' is not defined",
     "output_type": "error",
     "traceback": [
      "\u001b[0;31m---------------------------------------------------------------------------\u001b[0m",
      "\u001b[0;31mNameError\u001b[0m                                 Traceback (most recent call last)",
      "Cell \u001b[0;32mIn[19], line 1\u001b[0m\n\u001b[0;32m----> 1\u001b[0m \u001b[38;5;28mprint\u001b[39m(\u001b[43mllama32pi\u001b[49m(\u001b[38;5;124m\"\u001b[39m\u001b[38;5;124mdescribe the image in one sentence\u001b[39m\u001b[38;5;124m\"\u001b[39m,\n\u001b[1;32m      2\u001b[0m                 \u001b[38;5;124m\"\u001b[39m\u001b[38;5;124mhttps://raw.githubusercontent.com/meta-llama/\u001b[39m\u001b[38;5;124m\"\u001b[39m\n\u001b[1;32m      3\u001b[0m                 \u001b[38;5;124m\"\u001b[39m\u001b[38;5;124mllama-models/refs/heads/main/Llama_Repo.jpeg\u001b[39m\u001b[38;5;124m\"\u001b[39m))\n",
      "\u001b[0;31mNameError\u001b[0m: name 'llama32pi' is not defined"
     ]
    }
   ],
   "source": [
    "print(llama32pi(\"describe the image in one sentence\",\n",
    "                \"https://raw.githubusercontent.com/meta-llama/\"\n",
    "                \"llama-models/refs/heads/main/Llama_Repo.jpeg\"))"
   ]
  },
  {
   "cell_type": "code",
   "execution_count": 18,
   "id": "fdfb78fc-94c8-4858-becc-015d09fe886b",
   "metadata": {
    "height": 62
   },
   "outputs": [
    {
     "ename": "NameError",
     "evalue": "name 'llama32pi' is not defined",
     "output_type": "error",
     "traceback": [
      "\u001b[0;31m---------------------------------------------------------------------------\u001b[0m",
      "\u001b[0;31mNameError\u001b[0m                                 Traceback (most recent call last)",
      "Cell \u001b[0;32mIn[18], line 1\u001b[0m\n\u001b[0;32m----> 1\u001b[0m \u001b[38;5;28mprint\u001b[39m(\u001b[43mllama32pi\u001b[49m(\u001b[38;5;124m\"\u001b[39m\u001b[38;5;124mdescribe the image in one sentence\u001b[39m\u001b[38;5;124m\"\u001b[39m,\n\u001b[1;32m      2\u001b[0m                 \u001b[38;5;124mf\u001b[39m\u001b[38;5;124m\"\u001b[39m\u001b[38;5;124mdata:image/jpeg;base64,\u001b[39m\u001b[38;5;132;01m{\u001b[39;00mbase64_image\u001b[38;5;132;01m}\u001b[39;00m\u001b[38;5;124m\"\u001b[39m))\n",
      "\u001b[0;31mNameError\u001b[0m: name 'llama32pi' is not defined"
     ]
    }
   ],
   "source": [
    "print(llama32pi(\"describe the image in one sentence\",\n",
    "                f\"data:image/jpeg;base64,{base64_image}\"))"
   ]
  },
  {
   "cell_type": "markdown",
   "id": "503344e4-4d87-46f6-8eb8-ef482c338c7d",
   "metadata": {},
   "source": [
    "## Plant recognition"
   ]
  },
  {
   "cell_type": "code",
   "execution_count": null,
   "id": "78a16781-9c5c-4752-9329-38d122f99a0a",
   "metadata": {
    "height": 30
   },
   "outputs": [],
   "source": [
    "disp_image(\"images/tree.jpg\")"
   ]
  },
  {
   "cell_type": "code",
   "execution_count": null,
   "id": "19865b1c-55d6-4014-84f5-95b1c47f698e",
   "metadata": {
    "height": 62
   },
   "outputs": [],
   "source": [
    "question = (\"What kind of plant is this in my garden?\"\n",
    "            \"Describe it in a short paragraph.\")"
   ]
  },
  {
   "cell_type": "code",
   "execution_count": null,
   "id": "7e581ea2-8801-4d4c-84f1-cf382459cb10",
   "metadata": {
    "height": 79
   },
   "outputs": [],
   "source": [
    "base64_image = encode_image(\"images/tree.jpg\")\n",
    "result = llama32pi(question, f\"data:image/jpg;base64,{base64_image}\")\n",
    "print(result)"
   ]
  },
  {
   "cell_type": "markdown",
   "id": "08359ef9-dba6-468c-b23b-c6e3f6e08eba",
   "metadata": {},
   "source": [
    "## Dog breed recognition"
   ]
  },
  {
   "cell_type": "code",
   "execution_count": null,
   "id": "8e063d07-cd90-4dbf-93c6-7c063a17fe92",
   "metadata": {
    "height": 30
   },
   "outputs": [],
   "source": [
    "disp_image(\"images/ww1.jpg\")"
   ]
  },
  {
   "cell_type": "code",
   "execution_count": null,
   "id": "3b938c45-b307-47bf-bded-52260b4f1705",
   "metadata": {
    "height": 113
   },
   "outputs": [],
   "source": [
    "question = ((\"What dog breed is this? Describe in one paragraph,\"\n",
    "             \"and 3-5 short bullet points\"))\n",
    "base64_image = encode_image(\"images/ww1.jpg\")\n",
    "result = llama32pi(question, f\"data:image/jpg;base64,{base64_image}\")\n",
    "print(result)"
   ]
  },
  {
   "cell_type": "code",
   "execution_count": null,
   "id": "882d0eb1-698e-4841-a7bc-de63215b6179",
   "metadata": {
    "height": 30
   },
   "outputs": [],
   "source": [
    "disp_image(\"images/ww2.png\")"
   ]
  },
  {
   "cell_type": "code",
   "execution_count": null,
   "id": "62851e90-cc4e-4aae-a912-a47a00886efa",
   "metadata": {
    "height": 79
   },
   "outputs": [],
   "source": [
    "base64_image = encode_image(\"images/ww2.png\")\n",
    "result = llama32pi(question, f\"data:image/png;base64,{base64_image}\")\n",
    "print(result)"
   ]
  },
  {
   "cell_type": "markdown",
   "id": "74573008-4ea3-491d-8554-76b3ef414616",
   "metadata": {},
   "source": [
    "## Tire pressure warning"
   ]
  },
  {
   "cell_type": "code",
   "execution_count": null,
   "id": "423bd23c-991e-4b93-93ee-1aa19df662be",
   "metadata": {
    "height": 30
   },
   "outputs": [],
   "source": [
    "disp_image(\"images/tire_pressure.png\")"
   ]
  },
  {
   "cell_type": "code",
   "execution_count": null,
   "id": "95d33279-b71e-495d-b3f2-c714829ef8ba",
   "metadata": {
    "height": 47
   },
   "outputs": [],
   "source": [
    "question = ((\"What's the problem this is about?\"\n",
    "             \" What should be good numbers?\"))"
   ]
  },
  {
   "cell_type": "code",
   "execution_count": null,
   "id": "828b3fbd-5f45-4e42-b06f-536ca410d8e7",
   "metadata": {
    "height": 79
   },
   "outputs": [],
   "source": [
    "base64_image = encode_image(\"images/tire_pressure.png\")\n",
    "result = llama32pi(question, f\"data:image/png;base64,{base64_image}\")\n",
    "print(result)"
   ]
  },
  {
   "cell_type": "code",
   "execution_count": null,
   "id": "c5735177-e227-4062-8a51-5a87cdcc786a",
   "metadata": {
    "height": 30
   },
   "outputs": [],
   "source": []
  },
  {
   "cell_type": "code",
   "execution_count": null,
   "id": "f8174346-415c-4341-983b-9bd0796a85ed",
   "metadata": {
    "height": 30
   },
   "outputs": [],
   "source": []
  },
  {
   "cell_type": "code",
   "execution_count": null,
   "id": "17579201-4fe1-4d6e-8d41-bc51ee0bea39",
   "metadata": {
    "height": 30
   },
   "outputs": [],
   "source": []
  },
  {
   "cell_type": "code",
   "execution_count": null,
   "id": "52513590-36e7-403d-8563-1d36d2983235",
   "metadata": {
    "height": 30
   },
   "outputs": [],
   "source": []
  },
  {
   "cell_type": "code",
   "execution_count": null,
   "id": "30111c0f-8bdd-47bb-89d6-068244f41bff",
   "metadata": {
    "height": 30
   },
   "outputs": [],
   "source": []
  }
 ],
 "metadata": {
  "kernelspec": {
   "display_name": "Python 3 (ipykernel)",
   "language": "python",
   "name": "python3"
  },
  "language_info": {
   "codemirror_mode": {
    "name": "ipython",
    "version": 3
   },
   "file_extension": ".py",
   "mimetype": "text/x-python",
   "name": "python",
   "nbconvert_exporter": "python",
   "pygments_lexer": "ipython3",
   "version": "3.11.9"
  }
 },
 "nbformat": 4,
 "nbformat_minor": 5
}
